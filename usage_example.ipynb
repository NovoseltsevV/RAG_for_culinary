{
  "cells": [
    {
      "cell_type": "markdown",
      "id": "b549e444-bb68-4ad9-9f84-97c2a47a1b3e",
      "metadata": {
        "id": "b549e444-bb68-4ad9-9f84-97c2a47a1b3e"
      },
      "source": [
        "# Глубинное обучение для текстовых данных, ФКН ВШЭ\n",
        "## Домашнее задание 5: Retrieval‑Augmented Generation (RAG)\n",
        "### Оценивание и штрафы\n",
        "\n",
        "Максимально допустимая оценка за работу — __10 баллов__.\n",
        "\n",
        "Задание выполняется самостоятельно. «Похожие» решения считаются плагиатом и все задействованные студенты (в том числе те, у кого списали) не могут получить за него больше 0 баллов. Весь код должен быть написан самостоятельно. Чужим кодом для пользоваться запрещается даже с указанием ссылки на источник. В разумных рамках, конечно. Взять пару очевидных строчек кода для реализации какого-то небольшого функционала можно.\n",
        "\n",
        "Неэффективная реализация кода может негативно отразиться на оценке. Также оценка может быть снижена за плохо читаемый код и плохо оформленные графики. Все ответы должны сопровождаться кодом или комментариями о том, как они были получены.\n",
        "\n",
        "__Мягкий дедлайн 16.12.24 23:59__ \\\n",
        "__Жесткий дедлайн 19.12.24 23:59__\n",
        "\n",
        "### О задании\n",
        "\n",
        "В этом домашнем задании вам предлагается реализовать ассистента для кулинарных советов с помощью RAG, который помимо всего прочего может ходить в итернет за дополнительной информацией. Всю логику системы нужно будет написать самостоятельно без специализорованных библиотек. Мы разделили ее на несколько логических компонент, каждой из которых будет отведено отдельное задание:\n",
        "1. Векторная база данных с быстрым семантическим поиском\n",
        "2. Разбиение текстов на куски.\n",
        "3. Ранжирование документов по релевантности\n",
        "4. Формирование контекста для модели и генерация ответа\n",
        "\n",
        "### О данных\n",
        "\n",
        "В качестве базы данных мы будем использовать пользовательские рецепты с сайта \"Поваренок.Ру\". Они получены с помощью веб-парсинга сайта, поэтому местами тексты недостаточно чистые. Всего в датасете содержится 84130 рецептов."
      ]
    },
    {
      "cell_type": "code",
      "source": [
        "from google.colab import drive\n",
        "drive.mount('/content/drive')"
      ],
      "metadata": {
        "colab": {
          "base_uri": "https://localhost:8080/"
        },
        "id": "MQxbmQrYI1io",
        "outputId": "8c5a2a11-cf2e-4df3-97bc-1e174b3aa798"
      },
      "id": "MQxbmQrYI1io",
      "execution_count": 1,
      "outputs": [
        {
          "output_type": "stream",
          "name": "stdout",
          "text": [
            "Mounted at /content/drive\n"
          ]
        }
      ]
    },
    {
      "cell_type": "code",
      "execution_count": 2,
      "id": "ff2e0ac6-83d3-419b-a01d-110cc40cd8b1",
      "metadata": {
        "id": "ff2e0ac6-83d3-419b-a01d-110cc40cd8b1"
      },
      "outputs": [],
      "source": [
        "import matplotlib.pyplot as plt\n",
        "import numpy as np\n",
        "import os\n",
        "\n",
        "os.chdir('/content/drive/MyDrive/DL/NLP_HSE (YSDA)/RAG')"
      ]
    },
    {
      "cell_type": "markdown",
      "id": "83786d0e",
      "metadata": {
        "id": "83786d0e"
      },
      "source": [
        "### Загрузка датасета и модели\n",
        "\n",
        "Таблица с рецептами хранится в файле `povarenok.csv`. Каждая запись содержит название рецепта, список ингредиентов и сам рецепт. Несмотря на то, что всего датасете хранится 84130 записей, в рамках этого задания мы будем работать с первыми 10-ю тысячами для того, чтобы все работало быстрее. При желании вы можете взять больше."
      ]
    },
    {
      "cell_type": "code",
      "source": [
        "!pip install -U -q datasets\n",
        "!pip install -U -q huggingface_hub\n",
        "!pip install -q jaxtyping"
      ],
      "metadata": {
        "colab": {
          "base_uri": "https://localhost:8080/"
        },
        "id": "Jvu7bCchJbYc",
        "outputId": "50fbce82-0d59-49b8-941d-ea8af86e6efe"
      },
      "id": "Jvu7bCchJbYc",
      "execution_count": 3,
      "outputs": [
        {
          "output_type": "stream",
          "name": "stdout",
          "text": [
            "\u001b[?25l   \u001b[90m━━━━━━━━━━━━━━━━━━━━━━━━━━━━━━━━━━━━━━━━\u001b[0m \u001b[32m0.0/494.8 kB\u001b[0m \u001b[31m?\u001b[0m eta \u001b[36m-:--:--\u001b[0m\r\u001b[2K   \u001b[91m━━━━━━━━━━━━━━━━━━━━━━━━━━━━━━━━━━━━━━━\u001b[0m\u001b[91m╸\u001b[0m \u001b[32m491.5/494.8 kB\u001b[0m \u001b[31m21.9 MB/s\u001b[0m eta \u001b[36m0:00:01\u001b[0m\r\u001b[2K   \u001b[90m━━━━━━━━━━━━━━━━━━━━━━━━━━━━━━━━━━━━━━━━\u001b[0m \u001b[32m494.8/494.8 kB\u001b[0m \u001b[31m13.2 MB/s\u001b[0m eta \u001b[36m0:00:00\u001b[0m\n",
            "\u001b[?25h\u001b[?25l   \u001b[90m━━━━━━━━━━━━━━━━━━━━━━━━━━━━━━━━━━━━━━━━\u001b[0m \u001b[32m0.0/193.6 kB\u001b[0m \u001b[31m?\u001b[0m eta \u001b[36m-:--:--\u001b[0m\r\u001b[2K   \u001b[90m━━━━━━━━━━━━━━━━━━━━━━━━━━━━━━━━━━━━━━━━\u001b[0m \u001b[32m193.6/193.6 kB\u001b[0m \u001b[31m15.7 MB/s\u001b[0m eta \u001b[36m0:00:00\u001b[0m\n",
            "\u001b[?25h\u001b[31mERROR: pip's dependency resolver does not currently take into account all the packages that are installed. This behaviour is the source of the following dependency conflicts.\n",
            "gcsfs 2025.3.2 requires fsspec==2025.3.2, but you have fsspec 2025.3.0 which is incompatible.\n",
            "torch 2.6.0+cu124 requires nvidia-cublas-cu12==12.4.5.8; platform_system == \"Linux\" and platform_machine == \"x86_64\", but you have nvidia-cublas-cu12 12.5.3.2 which is incompatible.\n",
            "torch 2.6.0+cu124 requires nvidia-cuda-cupti-cu12==12.4.127; platform_system == \"Linux\" and platform_machine == \"x86_64\", but you have nvidia-cuda-cupti-cu12 12.5.82 which is incompatible.\n",
            "torch 2.6.0+cu124 requires nvidia-cuda-nvrtc-cu12==12.4.127; platform_system == \"Linux\" and platform_machine == \"x86_64\", but you have nvidia-cuda-nvrtc-cu12 12.5.82 which is incompatible.\n",
            "torch 2.6.0+cu124 requires nvidia-cuda-runtime-cu12==12.4.127; platform_system == \"Linux\" and platform_machine == \"x86_64\", but you have nvidia-cuda-runtime-cu12 12.5.82 which is incompatible.\n",
            "torch 2.6.0+cu124 requires nvidia-cudnn-cu12==9.1.0.70; platform_system == \"Linux\" and platform_machine == \"x86_64\", but you have nvidia-cudnn-cu12 9.3.0.75 which is incompatible.\n",
            "torch 2.6.0+cu124 requires nvidia-cufft-cu12==11.2.1.3; platform_system == \"Linux\" and platform_machine == \"x86_64\", but you have nvidia-cufft-cu12 11.2.3.61 which is incompatible.\n",
            "torch 2.6.0+cu124 requires nvidia-curand-cu12==10.3.5.147; platform_system == \"Linux\" and platform_machine == \"x86_64\", but you have nvidia-curand-cu12 10.3.6.82 which is incompatible.\n",
            "torch 2.6.0+cu124 requires nvidia-cusolver-cu12==11.6.1.9; platform_system == \"Linux\" and platform_machine == \"x86_64\", but you have nvidia-cusolver-cu12 11.6.3.83 which is incompatible.\n",
            "torch 2.6.0+cu124 requires nvidia-cusparse-cu12==12.3.1.170; platform_system == \"Linux\" and platform_machine == \"x86_64\", but you have nvidia-cusparse-cu12 12.5.1.3 which is incompatible.\n",
            "torch 2.6.0+cu124 requires nvidia-nvjitlink-cu12==12.4.127; platform_system == \"Linux\" and platform_machine == \"x86_64\", but you have nvidia-nvjitlink-cu12 12.5.82 which is incompatible.\u001b[0m\u001b[31m\n",
            "\u001b[2K   \u001b[90m━━━━━━━━━━━━━━━━━━━━━━━━━━━━━━━━━━━━━━━━\u001b[0m \u001b[32m55.4/55.4 kB\u001b[0m \u001b[31m3.2 MB/s\u001b[0m eta \u001b[36m0:00:00\u001b[0m\n",
            "\u001b[?25h"
          ]
        }
      ]
    },
    {
      "cell_type": "code",
      "execution_count": 4,
      "id": "de61590c-28cc-4131-9ba3-377ab23c0be7",
      "metadata": {
        "colab": {
          "base_uri": "https://localhost:8080/",
          "height": 49,
          "referenced_widgets": [
            "a645cba5d3284e43b17cb0d9e4644d1b",
            "f682b450217644d98aff132cd3da748c",
            "28959193d3bc4d28bdda143e3ca09c5e",
            "6a367e7ede774b7abbfa10fc64540418",
            "780996dfbac84c428eeaa6257a987402",
            "cd3b529c86db42cdbf6731957c2d52aa",
            "547eacd2232c43c3979c5d0e4ddb8fe7",
            "8d39ae1e229b4941a80659087b901d08",
            "89ea2a21bed8426c83b8d20f1c58c7c7",
            "9d6f91ae64234eb38d18be0231e1685c",
            "12dfae5577b34f32b8af675a86e29904"
          ]
        },
        "id": "de61590c-28cc-4131-9ba3-377ab23c0be7",
        "outputId": "39dd11af-18ae-47db-fac9-e158c04deb9c"
      },
      "outputs": [
        {
          "output_type": "display_data",
          "data": {
            "text/plain": [
              "Generating train split: 0 examples [00:00, ? examples/s]"
            ],
            "application/vnd.jupyter.widget-view+json": {
              "version_major": 2,
              "version_minor": 0,
              "model_id": "a645cba5d3284e43b17cb0d9e4644d1b"
            }
          },
          "metadata": {}
        }
      ],
      "source": [
        "from datasets import load_dataset\n",
        "import shutil\n",
        "\n",
        "shutil.rmtree('/root/.cache/huggingface', ignore_errors=True)\n",
        "os.makedirs('/content/dataset_cache', exist_ok=True)\n",
        "dataset = load_dataset(\n",
        "    'csv',\n",
        "    data_files=['povarenok.csv'],\n",
        "    split='train',\n",
        "    cache_dir=\"/content/dataset_cache\",\n",
        "    download_mode=\"reuse_cache_if_exists\"\n",
        ")"
      ]
    },
    {
      "cell_type": "code",
      "execution_count": 5,
      "id": "f4d765e9-f528-450c-a577-9d90e00245a6",
      "metadata": {
        "id": "f4d765e9-f528-450c-a577-9d90e00245a6"
      },
      "outputs": [],
      "source": [
        "dataset = dataset.select(range(10000))"
      ]
    },
    {
      "cell_type": "code",
      "execution_count": 6,
      "id": "ad6257e6-e4d6-40cd-b164-2927e5d3669e",
      "metadata": {
        "colab": {
          "base_uri": "https://localhost:8080/"
        },
        "id": "ad6257e6-e4d6-40cd-b164-2927e5d3669e",
        "outputId": "2523512c-5189-4098-ecfd-bf813ba229ed"
      },
      "outputs": [
        {
          "output_type": "execute_result",
          "data": {
            "text/plain": [
              "{'name': 'Густой молочно-клубничный коктейль',\n",
              " 'ingredients': \"['Молоко', 'Клубника', 'Сахар']\",\n",
              " 'text': 'Не размораживая, ягоду положите в блендер, добавьте молоко и сахар (если ягода свежая, то и перепелиное яйцо) Взбивайте на высокой скорости до полного измельчения ягод. Вылете в стаканы и можно по чуть-чуть пить, так как этот напиток оочень холодный. Кто не любит таковой, подождите и выпейте, когда он немного согреется. Приятного аппетита!'}"
            ]
          },
          "metadata": {},
          "execution_count": 6
        }
      ],
      "source": [
        "dataset[0]"
      ]
    },
    {
      "cell_type": "markdown",
      "id": "30f0fc4e-e777-494c-a651-2d733f84824d",
      "metadata": {
        "id": "30f0fc4e-e777-494c-a651-2d733f84824d"
      },
      "source": [
        "Посмотрим на распределение длин текстов. Нам важно знать с чем мы имеем дело, ведь RAG подразумевает, что мы будем подавать тексты на вход модели."
      ]
    },
    {
      "cell_type": "code",
      "execution_count": 7,
      "id": "af1cd79f",
      "metadata": {
        "colab": {
          "base_uri": "https://localhost:8080/",
          "height": 177
        },
        "id": "af1cd79f",
        "outputId": "86b478eb-abd6-4f99-9bb6-43ab99e50c3b"
      },
      "outputs": [
        {
          "output_type": "display_data",
          "data": {
            "text/plain": [
              "<Figure size 1000x200 with 2 Axes>"
            ],
            "image/png": "[encoded data removed]"
          },
          "metadata": {}
        }
      ],
      "source": [
        "lens = np.array([len(dataset[i]['text'].split()) for i in range(len(dataset))])\n",
        "\n",
        "plt.figure(figsize=(10, 2))\n",
        "plt.subplot(1, 2, 1)\n",
        "plt.hist(lens, bins=50)\n",
        "plt.title('Распределение длин текстов')\n",
        "\n",
        "plt.subplot(1, 2, 2)\n",
        "plt.hist(lens[lens < 600], bins=50)\n",
        "plt.title('Распределение длин текстов короче 600 слов')\n",
        "\n",
        "plt.show()"
      ]
    },
    {
      "cell_type": "markdown",
      "id": "45be8bd5",
      "metadata": {
        "id": "45be8bd5"
      },
      "source": [
        "Видим, что тексты часто довольно длинные. Поэтому смухлевать не получится и перед векторизацией нужно будет разбивать каждый текст на небольшие куски, чтобы не перегружать контекст модели и чтобы потерять важную информацию при векторизацци текстов на этапе складывания их в векторную базу данных.\n",
        "\n",
        "Приступим к реализации RAG."
      ]
    },
    {
      "cell_type": "markdown",
      "id": "bdeabe13",
      "metadata": {
        "id": "bdeabe13"
      },
      "source": [
        "## Retrieval‑Augmented Generation\n",
        "\n",
        "В качестве основы для ассистента возьмите модель [`Qwen/Qwen2-1.5B-Instruct`](https://huggingface.co/Qwen/Qwen2-1.5B-Instruct) из huggingface. Важно, что это `Instruct` модель, то есть она предлазначена для общения в формате диалога.\n",
        "\n",
        "__Задание 0 (0 баллов).__ Проверьте, как модель отвечает на кулинарные вопросы без RAG. Это необходимо сделать, чтобы понять, нужен ли вообще RAG для данной задачи."
      ]
    },
    {
      "cell_type": "code",
      "execution_count": 8,
      "id": "ba3c508d-7db6-424a-94c5-2bfd85ee497a",
      "metadata": {
        "colab": {
          "base_uri": "https://localhost:8080/",
          "height": 631,
          "referenced_widgets": [
            "ae8954d3e513438ea79e3805870c4486",
            "ec48da8e18c04961bf3d0a5eea723afb",
            "ab23e49fe2234106a3ac982114a469be",
            "8c19b74a91c04a16ad0d0ac1b0e38e67",
            "4709214dfb14466a897df545d4447220",
            "70fbc6f6f78f48a6873b0853f2bf7be2",
            "dced945585f94263a056e6362c62261d",
            "dc92b37c9e5e4f479b59db34a6874e4a",
            "6a4221d72ceb4b6dae8749d68b09eea5",
            "b03bf31b91594c8b94cfe6709e1f7b92",
            "7a8298771bbc4184ac1de9778ff69b6f",
            "0fd4e33117054618a8bc44969cb6d3e5",
            "5d7184043fd94ced891993ae44a94cb7",
            "a929bd261bf841179e7f4ae4dc9ad06c",
            "3016c352398e423fa72fa9b4affd8937",
            "bdd5aee0c2df465688fcd247eb987d86",
            "6852e952feb54d1dac29185c69b56571",
            "3abff937a2474e45b125b3140166eef7",
            "79b112a58eb94cad93a2b1ac74d3a773",
            "ba9a9576401744a0b294a49afeb5ac96",
            "07068d8a79e34c358f1b853b48933d70",
            "243249e4b43f4c6a8d0e6b6daf971058",
            "21199d1ade064f55b8a73247fdbaf459",
            "bcfa6b40f1f04dd78c2bc67b084732a1",
            "066e4d2f631b415a83400d5daf85079e",
            "0fd2321db6e04859967bd68760d7b98c",
            "d6063097d25e4edb846f597e6ae6152d",
            "b734ff275f494c62870b119f0babe8b1",
            "dba6faefeee64431bc7d33a11241d8d5",
            "77d614caa8ca47a7a5b6ad6f12c542eb",
            "bd8ba783bab341efa9f6ddddf8f76040",
            "71171ac0f8584cf08677d9816760f47c",
            "db30bd3ed5664fff8533095b2e6659d1",
            "f6a35411562e48fc94b848635fb4e064",
            "308f1703d2f5490d87fe279120523246",
            "c053c96475324a54a1c799ca826a1d53",
            "7eee991822264ccabc333bbdcf29887a",
            "3d644a3916e34fc48343b95d3f113b5d",
            "95d57678dc294d878b71ca296d5c91fe",
            "30fec4ff65d34f92a525a982b5128d35",
            "2776e6e8c8a34d0db001dd75c777cf07",
            "84eeb180865e4bbe97541a7b6e6cac80",
            "707f1c2a6f484e8ca97aa13591d6ed97",
            "824277523fba4dd1927c60f8add27c02",
            "783a9e2486764cdd907fe0cc6d1b51bc",
            "0a3bbfa436f745e8b8c0a3e8008148a8",
            "843ac50c4e3e4c4692fc852f2915c7bd",
            "5a241591c94c4df3826e2f3a3478a1a1",
            "9b856ba2b7db4d86bb14882fccf04d92",
            "49a4ab50cac7466e9ab223cbe50f149e",
            "2716e6323e824c47b86ba4358e1bb47f",
            "5f6ad49ec80046be92782aa7377a4ce1",
            "cae0d5328d0c40a78a7835b07fe0543d",
            "e3abf566aa8b4dc2a69c062a5cd2012b",
            "73c81c7ea707414b97ca762984b9ef4f",
            "21f4415836744f7492a3be92f184b395",
            "eac863b4e1244b438c7092ffedc40b54",
            "779bb443a2e843f4883d5c0f7291647c",
            "9b05daa17d7d4cc99dfed36180a89de4",
            "7f1899b7ca684f9489bc5c1a88bcb361",
            "b63f9a45b72c4661adaee9d7efaf4812",
            "f80bdf2fca604e499062ed24ff2b5330",
            "9019ad0484de447f8b947f464c441569",
            "3593bad62db2429987fb8175db30a5b6",
            "363bcb92af6e4be6ab121a138839b191",
            "44ef5b2b472d4b829d77f22d15df7b7f",
            "cbb52486a5304302a8ef80890766128a",
            "a4f777a24a8d4c1cb33289277e52ed13",
            "dccaf6e45b9c48aeb3fda9a85d58b1ec",
            "68735c45c77b4b78a50430e7f8ee2fbf",
            "3703e9b876774fff85d3c7a11c2cd066",
            "5eab1106f65a45b593f7f2d78118be9f",
            "fbce7e9e57524470b35f7aa9f6b5df8f",
            "68bd0c07386046f9b307e77b353e6ef6",
            "052795cd89e74c2089f8630eb7095fd1",
            "ee9ed3c2b2044ea18e9b5bafe8a78198",
            "2b14e74829fb46aebd8446fbd4141d96",
            "a049e347ad60406d87d748942928bcab",
            "5f282ed7dc494500a756a67b51f8cc3a",
            "3538586756364aa8a0d464fbc696dd61",
            "6a065c2ec49e4dddadbdff1be262fadb",
            "e80191fc98904118aae8fe560cd47594",
            "62461981394c4492abae0a04f4e2e653",
            "88b7ff0b194c4942a07fb7235d8fa24f",
            "4e851d15edf24f63a51f29ba6d205750",
            "0dd392c9b947461287d456c511a5747d",
            "cbbef0cfaba54adaa232f5cb367f2aa3",
            "747085cdeed94c749af97d168fdeb831",
            "f7e27118ba0a409588d730e767118d84",
            "ab9ffd9aa7bd41d1b803713437e157bb",
            "c65581ec25ba4e49a07a5e5097592587",
            "702073b86a824b1ea92fbd60d13c3070",
            "14cc31255f0e4750918af30524095638",
            "4e4bad4f3e6040549d7d166ca2304142",
            "1b4006c16b0240658fccb27671fdbe2e",
            "1c3dca47789546298ce2443efc484feb",
            "9c741480ad9c4f1daa44cf20241b60d4",
            "6083535e0a594ff9ab2f11cb2a02a537",
            "a3ae6eee4a1e4ed8982a017537a7c136",
            "aca81aa18bf24ea4a7f8c1770c70362c",
            "39666e10abae48cb9595824927c5c9c6",
            "0e6617af3a724c84a19c2d96a371fee8",
            "7259170d614e4ec1b4d644c7a0dfa317",
            "19152c0a9d134f18a1d0785227429bda",
            "01502a2b602241c19a3e4e3e9489092a",
            "6a5d496cbfed42a9a224843f4521574a",
            "d850acacca70445fbc1cc4c30cf988a2",
            "65c280d4735c40e5af0f6004a66993f9",
            "884d5b37746247a3a2c7cf10d504ec6e",
            "5d409df893e24669baef5c59769d39e4",
            "08f35ef0457b4802969194d542b67d8b",
            "b73c19b915614fb2a639c69dd4c5d973",
            "64b0e8f3e7474e41a6f5aea07466a3ff",
            "4f7afa5838574224a9b1f32eda7229ff",
            "f22dec0be8dd4911878f24ed74507d20",
            "22a6068a989f419f8e9a2df9236c02fb",
            "ba866b032b124c7c8178237a90285bf9",
            "0e5e07a9907d4d6ea59455b6a84821ff",
            "fd7516b02c224a1ebb08b667371ab36a",
            "3898dda8538f48638fe9968b8c3fea90",
            "5b4268642cbd4655b03135092b16437b",
            "4e38be26e5a947b3835bd7bc385fc4bc",
            "5c52658bd9f64c68bfd4b89bb4eb1b0f",
            "50d2e2dbd5884e7daacf02412a18ee0d",
            "1fbeea3424664014ad7abbc0b503a532",
            "e24dc3ad502144ff8ec5e952d3a83ad9",
            "9db5cbb713a7469fa20d25e748b6acfc",
            "cc1e0feaaaa7451c8e778627ec32f1cb",
            "c8b665a6dcf44062b2dfc75dbd681c42",
            "94a0af9cf223480d94bde6863ef9bda9",
            "ec47b6df8bb042998b0b73c441c949b2",
            "8bd0b4e2f907449692cd06425fd4b25b",
            "038e07a435844f68af0df3afd051594d",
            "c4591bba136b428da67adf5b87f1f4a2",
            "a2ea81f06a8c442ca92d52daaed3c39f",
            "76f3d81c54b747aca09077da6ce8b2b0",
            "c493206016564a319b15acc9d3f768d0",
            "8e98ab776fe145cfb2d1d1f43bb65f8c",
            "10342cfb565041fea00e865f42cd1aec",
            "fb199b80cb1a47078294d6fdbf0f3686",
            "6bd56cf928924b1bb94951eaf97bd34f",
            "974d5dbc58b8406d841e6bf93cfdf05b",
            "8e6b82229ef94bfc91784e6c622f4def"
          ]
        },
        "id": "ba3c508d-7db6-424a-94c5-2bfd85ee497a",
        "outputId": "f4fe1dc1-61bc-4e63-9e64-1712677ef933"
      },
      "outputs": [
        {
          "output_type": "stream",
          "name": "stderr",
          "text": [
            "/usr/local/lib/python3.11/dist-packages/huggingface_hub/utils/_auth.py:94: UserWarning: \n",
            "The secret `HF_TOKEN` does not exist in your Colab secrets.\n",
            "To authenticate with the Hugging Face Hub, create a token in your settings tab (https://huggingface.co/settings/tokens), set it as secret in your Google Colab and restart your session.\n",
            "You will be able to reuse this secret in all of your notebooks.\n",
            "Please note that authentication is recommended but still optional to access public models or datasets.\n",
            "  warnings.warn(\n"
          ]
        },
        {
          "output_type": "display_data",
          "data": {
            "text/plain": [
              "config.json:   0%|          | 0.00/777 [00:00<?, ?B/s]"
            ],
            "application/vnd.jupyter.widget-view+json": {
              "version_major": 2,
              "version_minor": 0,
              "model_id": "ae8954d3e513438ea79e3805870c4486"
            }
          },
          "metadata": {}
        },
        {
          "output_type": "display_data",
          "data": {
            "text/plain": [
              "model.safetensors.index.json: 0.00B [00:00, ?B/s]"
            ],
            "application/vnd.jupyter.widget-view+json": {
              "version_major": 2,
              "version_minor": 0,
              "model_id": "0fd4e33117054618a8bc44969cb6d3e5"
            }
          },
          "metadata": {}
        },
        {
          "output_type": "display_data",
          "data": {
            "text/plain": [
              "Fetching 2 files:   0%|          | 0/2 [00:00<?, ?it/s]"
            ],
            "application/vnd.jupyter.widget-view+json": {
              "version_major": 2,
              "version_minor": 0,
              "model_id": "21199d1ade064f55b8a73247fdbaf459"
            }
          },
          "metadata": {}
        },
        {
          "output_type": "display_data",
          "data": {
            "text/plain": [
              "model-00002-of-00002.safetensors:   0%|          | 0.00/1.17G [00:00<?, ?B/s]"
            ],
            "application/vnd.jupyter.widget-view+json": {
              "version_major": 2,
              "version_minor": 0,
              "model_id": "f6a35411562e48fc94b848635fb4e064"
            }
          },
          "metadata": {}
        },
        {
          "output_type": "display_data",
          "data": {
            "text/plain": [
              "model-00001-of-00002.safetensors:   0%|          | 0.00/4.98G [00:00<?, ?B/s]"
            ],
            "application/vnd.jupyter.widget-view+json": {
              "version_major": 2,
              "version_minor": 0,
              "model_id": "783a9e2486764cdd907fe0cc6d1b51bc"
            }
          },
          "metadata": {}
        },
        {
          "output_type": "display_data",
          "data": {
            "text/plain": [
              "Loading checkpoint shards:   0%|          | 0/2 [00:00<?, ?it/s]"
            ],
            "application/vnd.jupyter.widget-view+json": {
              "version_major": 2,
              "version_minor": 0,
              "model_id": "21f4415836744f7492a3be92f184b395"
            }
          },
          "metadata": {}
        },
        {
          "output_type": "display_data",
          "data": {
            "text/plain": [
              "generation_config.json:   0%|          | 0.00/195 [00:00<?, ?B/s]"
            ],
            "application/vnd.jupyter.widget-view+json": {
              "version_major": 2,
              "version_minor": 0,
              "model_id": "cbb52486a5304302a8ef80890766128a"
            }
          },
          "metadata": {}
        },
        {
          "output_type": "display_data",
          "data": {
            "text/plain": [
              "tokenizer_config.json: 0.00B [00:00, ?B/s]"
            ],
            "application/vnd.jupyter.widget-view+json": {
              "version_major": 2,
              "version_minor": 0,
              "model_id": "a049e347ad60406d87d748942928bcab"
            }
          },
          "metadata": {}
        },
        {
          "output_type": "display_data",
          "data": {
            "text/plain": [
              "vocab.json: 0.00B [00:00, ?B/s]"
            ],
            "application/vnd.jupyter.widget-view+json": {
              "version_major": 2,
              "version_minor": 0,
              "model_id": "f7e27118ba0a409588d730e767118d84"
            }
          },
          "metadata": {}
        },
        {
          "output_type": "display_data",
          "data": {
            "text/plain": [
              "merges.txt: 0.00B [00:00, ?B/s]"
            ],
            "application/vnd.jupyter.widget-view+json": {
              "version_major": 2,
              "version_minor": 0,
              "model_id": "aca81aa18bf24ea4a7f8c1770c70362c"
            }
          },
          "metadata": {}
        },
        {
          "output_type": "display_data",
          "data": {
            "text/plain": [
              "tokenizer.json:   0%|          | 0.00/12.4M [00:00<?, ?B/s]"
            ],
            "application/vnd.jupyter.widget-view+json": {
              "version_major": 2,
              "version_minor": 0,
              "model_id": "08f35ef0457b4802969194d542b67d8b"
            }
          },
          "metadata": {}
        },
        {
          "output_type": "display_data",
          "data": {
            "text/plain": [
              "added_tokens.json:   0%|          | 0.00/605 [00:00<?, ?B/s]"
            ],
            "application/vnd.jupyter.widget-view+json": {
              "version_major": 2,
              "version_minor": 0,
              "model_id": "4e38be26e5a947b3835bd7bc385fc4bc"
            }
          },
          "metadata": {}
        },
        {
          "output_type": "display_data",
          "data": {
            "text/plain": [
              "special_tokens_map.json:   0%|          | 0.00/759 [00:00<?, ?B/s]"
            ],
            "application/vnd.jupyter.widget-view+json": {
              "version_major": 2,
              "version_minor": 0,
              "model_id": "038e07a435844f68af0df3afd051594d"
            }
          },
          "metadata": {}
        },
        {
          "output_type": "stream",
          "name": "stderr",
          "text": [
            "Device set to use cuda\n"
          ]
        }
      ],
      "source": [
        "from transformers import pipeline\n",
        "import torch\n",
        "\n",
        "device = torch.device('cuda' if torch.cuda.is_available() else 'cpu')\n",
        "\n",
        "baseline_pipeline = pipeline(\n",
        "    \"text-generation\",\n",
        "    model=\"RefalMachine/ruadapt_qwen2.5_3B_ext_u48_instruct_v4\",\n",
        "    device=device,\n",
        "    torch_dtype=torch.float16\n",
        ")"
      ]
    },
    {
      "cell_type": "code",
      "source": [
        "messages = [\n",
        "    {\"role\": \"system\", \"content\": \"Ты полезный и дружебленый помощник, который специализируется на кулинарных рецептах. Для каждого рецепта возвращай полноценный ответ с указанием списка необходимых продуктов и подробной инструкцией приготовления\"},\n",
        "    {\"role\": \"user\", \"content\": \"Предложи полезное блюдо на ужин для набора массы\"}\n",
        "]\n",
        "\n",
        "output = baseline_pipeline(messages, max_new_tokens=512, do_sample=True, temperature=0.5, top_p=0.9)\n",
        "print(output[0]['generated_text'][-1]['content'])"
      ],
      "metadata": {
        "colab": {
          "base_uri": "https://localhost:8080/"
        },
        "id": "cIFhN-U8LC6W",
        "outputId": "8151ca23-8769-4552-a1f9-a8934b694862"
      },
      "id": "cIFhN-U8LC6W",
      "execution_count": 9,
      "outputs": [
        {
          "output_type": "stream",
          "name": "stdout",
          "text": [
            "Для набора массы важно сочетать качественную белковую пищу с достаточными энергетическими источниками, чтобы обеспечить быстрый рост мышечной массы. Вот простой и полезный рецепт ужина, который поможет вам в этом:\n",
            "\n",
            "### Рецепт: Свинина с овощами и гречневой кашей\n",
            "\n",
            "#### Ингредиенты:\n",
            "- 500 г свинины (лучше нежирной)\n",
            "- 3 средних моркови\n",
            "- 2 кабачка среднего размера\n",
            "- 1 большой лук\n",
            "- 1 большая луковица\n",
            "- 1 стакан гречневой крупы\n",
            "- 2 стакана воды или бульона\n",
            "- 2 столовые ложки оливкового масла\n",
            "- 1 чайная ложка соли\n",
            "- 1/2 чайной ложки черного молотого перца\n",
            "- Зелень укропа или петрушки (по желанию)\n",
            "\n",
            "#### Инструкция по приготовлению:\n",
            "\n",
            "1. **Подготовка ингредиентов**:\n",
            "   - Нарежьте мясо небольшими кусочками и обжарьте его на сковорке с оливковым маслом до золотистого цвета.\n",
            "   - Очистите морковь и кабачок, порубите их на небольшие кусочки и обжарьте вместе с луком и луком в сковорке до мягкости.\n",
            "\n",
            "2. **Приготовление гречневой каши**:\n",
            "   - В кастрюле соедините воду или бульон с солью и черным перцем. Добавьте гречневую крупу и варите на медленном огне до тех пор, пока крупа не станет мягкой и полностью набухнет.\n",
            "   - После того как каша готова, добавьте подготовленные овощи и мясо в кастрюлю с кашей и перемешайте хорошо.\n",
            "\n",
            "3. **Подавление блюда**:\n",
            "   - Дайте смеси настояться в течение 10-15 минут, чтобы овощи пропитались вкусом соуса из мяса и гречневой крупы.\n",
            "\n",
            "4. **Подача**:\n",
            "   - Подавайте блюдо горячим, украшенное свежей зеленью укропа или петрушки.\n",
            "\n",
            "Этот рецепт предлагает сбалансированное сочетание белков, углеводов и жиров, что идеально подходит для набора массы мышц. Не забудьте пить достаточно жидкости, особенно после еды, чтобы поддерживать уровень энергии и способствовать правильному усвоению питательных веществ.\n"
          ]
        }
      ]
    },
    {
      "cell_type": "markdown",
      "id": "5466d510",
      "metadata": {
        "id": "5466d510"
      },
      "source": [
        "### Locality Sensitive Hashing (LSH)\n",
        "\n",
        "В RAG для каждого запроса необходимо искать релевантные документы по векторной базе данных. Так как документов очень много, подсчет релевантности для каждого из них будет занимать очень много времени. Поэтому нам важно, чтобы поиск был быстрым. Для достижения этого мы даже готовы немного пожертвовать точностью.\n",
        "\n",
        "В этой секции вам предстоит реализовать [Locality Sensitive Hashing](https://ru.wikipedia.org/wiki/Locality-sensitive_hashing).\n",
        "\n",
        "Идея LSH довольна проста. Разделим все векторы из базы данных на группы, состоящие из похожих векторов. В начале поиска определим группу, которая соответствует вектору запроса и будем считать релевантность только для объектов из этой группы. Для разбиения на группы мы введем несколько хеш-функций. Каждая их них будет строиться по следующему алгоритму:\n",
        "1. Сгенерируем $k$ случайных векторов (векторы нормали гиперплоскости)\n",
        "2. Для отдельной точки (вектора) в базе данных и вектора нормали запишем 1, если точка лежит над соответствующей гиперплоскостью. В обратном случае запишем 0.\n",
        "3. Повторим процедуру для всех точек и векторов нормали. Так мы для каждой точки получим список из $k$ 0 и 1, который и будет хешем.\n",
        "4. Запишем в хеш-таблицу найденные точки для каждого хеша.\n",
        "5. Повторим шаги 1-4 $L$ раз и получим $L$ разных хеш-таблиц.\n",
        "\n",
        "Теперь для каждого нового вектора $q$ мы можем очень быстро найти набор векторов похожих на него. Для этого посчитаем хеши запроса в каждой хеш-таблице и возьмем все точки, у которых хеш совпал c $q$ хотя бы в одной из них. Затем переранжируем найденные точки по релевантности (расстоянию до вектора запроса) и оставим заданное число самых близких.\n",
        "\n",
        "Сложность формирования хеш-таблиц можно оценить как $O(nLkd)$, где $n$ – число векторов в базе данных, а $d$ – размерность вектора. В то же время сложность поиска LSH – $O(Lkd + (nLp) \\cdot d)$, где $p$ – вероятность того, что хеш двух случайных точек совпадет ($p$ стремится к 0). Сложность полного перебора – $O(nd)$, поэтому при поиске LSH работает быстрее почти в $\\frac{n}{Lk}$ раз!"
      ]
    },
    {
      "cell_type": "markdown",
      "id": "2e7a3346",
      "metadata": {
        "id": "2e7a3346"
      },
      "source": [
        "__Задание 1 (3 балла).__ Реализуйте векторную базу данных LSH поиском. База данных должна уметь добавлять новые векторы, а так же по входному вектору быстро находить ближайшие к нему. Во время создании базы данных сгенерируйте необходимое число хеш-функций. Подумайте о том, как выбрать количество хеш-таблиц и число случайных векторов, а так же о том, из какого распределения брать эти случайные векторы. При добавлении нового вектора в базу данных, считайте для него хеш и записывайте, каким группам от принадлежит."
      ]
    },
    {
      "cell_type": "markdown",
      "id": "1cacde53",
      "metadata": {
        "id": "1cacde53"
      },
      "source": [
        "### Разбиение текста на куски\n",
        "\n",
        "Так как некоторые тексты довольно длинные, если мы будем кодировать их целиком одним вектором, то часть информации потеряется. Вектор все таки имеет ограниченный размер. Чтобы не терять информацию, мы поделим текст на куски и будем кодировать каждый кусок отдельно.\n",
        "\n",
        "__Задание 2 (2 балла).__ Реализуйте [рекурсивное разбиение](https://dev.to/eteimz/understanding-langchains-recursivecharactertextsplitter-2846) текста с уровнями `[\"\\n\\n\", \"\\n\", \" \", \"\"]`. Добавьте пересечение между кусками для уровней `[\" \", \"\"]`. То есть если целый абзац помещается в один кусок, то пересекать его ни с чем не надо (в нем содержится законченная мысль), а если абзац не влезает и его приходится делить по словам (или символам), то нужно добавить пересечение со словами из соседних кусков того же абзаца.\n",
        "\n",
        "Значения для максимального размера каждого куска и длины пересечения выберите самостоятельно. Надежнее всего брать размер пересечения равным половине длины куска."
      ]
    },
    {
      "cell_type": "markdown",
      "id": "5ca5441c",
      "metadata": {
        "id": "5ca5441c"
      },
      "source": [
        "## RAG\n",
        "\n",
        "Наконец мы можем начать собирать систему RAG. Для начала соберем векторую базу данных из кусков рецептов. Для получения эмбеддингов текстов возьмите модель [`intfloat/multilingual-e5-large`](https://huggingface.co/intfloat/multilingual-e5-large), она создана специально для этой задачи и хорошо работает с русским языком.\n",
        "\n",
        "__Задание 3 (1 балл).__ Соберите векторую базу данных с помощью написанных вами функций. Процесс не должен занимать много времени с GPU, но мы рекомендуем сохранить результат на диск, чтобы не векторизовать весь датасет заново при перезапуске ядра. Проверьте, что по запросу возвращаются релевантные тексты."
      ]
    },
    {
      "cell_type": "code",
      "execution_count": 10,
      "id": "d854e894",
      "metadata": {
        "id": "d854e894",
        "colab": {
          "base_uri": "https://localhost:8080/",
          "height": 337,
          "referenced_widgets": [
            "e32320a1931c44d7b2a67afbb427893f",
            "21d69c8ee312448db412c45b3bebc723",
            "e1a1a8e1dc154fb2aecf3d7966dcc9af",
            "b279b20de7164717b95407448e7807ac",
            "b94b9b1f315e466fbbba724186e6d609",
            "3783edb731d34ae58fc22fed79ec751b",
            "811bc932502d4b6ba03ca3eb1a85b074",
            "1c8494f18ab04f0e9e7982804d51d4ef",
            "748121fc0a3347b687f9ebd2f760033c",
            "7f4bb9437b4c49be85ab083fdd5bf3c4",
            "4f421a3172a04ba9b521b2c1efc9f98b",
            "2b8ad072fd0647f297dcc71dda389488",
            "f5ddbf5675ac4b09b646789d660e2374",
            "8aed794b72884aa88fdf6a16e2b3579d",
            "381c209935934b3c92037adc7d890eaf",
            "996e5868c4344bcebd81cab70569bf46",
            "46aa0f3246ea4e55881dea3c32496042",
            "a89b2943f16f4402bf0f84650f133608",
            "953c860d262442dfb63dc08a3c19cfbc",
            "71c2779ac71143f9b011b980fb8a1c7c",
            "69d0e450e1d741249bc7bd4fbadb6d46",
            "973e2fe0810a48b49e301232b830d644",
            "6201b20812084d9cb0bdc12790d6bc40",
            "7669e2cdfd58484b98ea11677bee19a5",
            "bb6d30c722fd49549ce713fab96da437",
            "f880bb98134c4ab2affe8d2b0193b86b",
            "b80377659c0b4359896a4e5f7f83c765",
            "7a8d43d19ed3474486c10c2c8c2ac128",
            "827c5bda198c4df0b40477dbfbb071b2",
            "05d0236cde2b4903bb9c0fed88892910",
            "b5187cf2c0604ac6af5bdf782caf2570",
            "f6b7370d63f1421b96529d69428363fd",
            "d8dff964ab4c4b14aafbdeb63c37fe2d",
            "36d9c050de144d968f30ac8a8f50a5a4",
            "e4452ed0c71b44cf97f70124b87f80b5",
            "4851626b11de4fae90debb228bc7a78f",
            "6229ec7051f6490882dc4438ea4f650d",
            "fbf0c35cc8db4260b0be278ed73fd420",
            "7c80f844d32c4a17a95316edc57fe688",
            "816d968811854adfa037cef4f024b52c",
            "f1ffffcd79e44b5c937d454c79cce6f9",
            "47d78b6f7cd14d23b0ddfb3f5894d619",
            "e5ec6fd5906e4c63a919c2503adcfc39",
            "0bab20868b2f4885a1320cdaafcc64ee",
            "6140209263544c79a30ab317d3d0e1fa",
            "87152bb1bcb441da91a626e285d42774",
            "9f112fc6b9ce4360862d87ad7c9ee82e",
            "2ffaefe6ceae466bb5d5849224b80827",
            "b44dab5edf8144e5ba2bf352c4d8da20",
            "c3e0185f10f14de183c57e07a5d993e5",
            "bdd4747b2d0f44da85436ca6281208c9",
            "3672e0ac683c477dac49460bce3006ee",
            "debdc26af9114f82941264d121889a20",
            "bea05ee6d53c4e32ae6e293ee99352e7",
            "c907f988fc63426d8f3e12ec1e99e354",
            "6465e8e266bd4bf183fe479e163d525a",
            "3c2e3b0f94384560bf205f9194115388",
            "4a8a7e24ca8f4036ad27e4a0eb01ffd7",
            "1bf1d9e1655d47fba7dae40b7870c0ff",
            "04dcf8aec20e48478e47a03f1e11dfa8",
            "ad0dc80d8a3f49978a4bc8c35c278caf",
            "641aa165a0374ff68eb92bcd1cc2c998",
            "28b515e8898e4f2196382232dae28087",
            "646c126f4fc048cbb37aeb9fbfd8ebd8",
            "762763a81a3b4fd7b09b1c6e846be07b",
            "09c2e56fc68d49f0908584c45baa854e",
            "bbfec6f758c245d28adad1c7f0858ac3",
            "fd732a691d9c43878db158cadc58ab79",
            "14c6d6aab92647fe938159aea1376652",
            "44577454cf9f4ab9856365ad9d99931c",
            "f436a9ee10264a5cb4223e93ac312abc",
            "fd08752a1bcc483a894b37c84b40ed40",
            "a6e75c79306a48a79deaf10b71401797",
            "a65248e5638c4dacb3344c08b9333ee0",
            "1d00452789a443f1af625cf5954c64a7",
            "8211272b43ca4e2ab41256a5a22e83c4",
            "3cf7f718115a4f21b80fb63dfa55d853",
            "6611f1ed24bf451a809c654c1925aa6d",
            "c96e6a04d1a9481388dfaf29fbced7bc",
            "00b03ec207c242ae9c8de50aec872ae2",
            "792f3a2a169e4e8c9204c65af97f27ee",
            "fb41246520f642119491e201528076e9",
            "00743d583eda4763858ca1226ee34a43",
            "d4fff158e92e435da210f50ad98bb863",
            "5e5a312e1a8c40c5b6e8c9a212497cc5",
            "1261a318863c4ce9b3b2ad307ac38c52",
            "ca05f5272fde4b73971d47fe6461a7d2",
            "e0ec7b15dd004d88af352a43309bc485",
            "5cad56a17ad5427388400dfddd7ef224",
            "aabc001ce6ee4e89a2f8c08bfff5f955",
            "6d7b4dcb0dae44a09054f2b0f46fa809",
            "ba536d6ccc404f61ac6f1dfec07ed6f1",
            "ab766f3af16c4967a3daed12001900a0",
            "bb12e1249c3b4e999b90876451e615da",
            "472ad63556974317b001cb83fb905eb7",
            "b428697d187340cdb1b5a7155ba14d0b",
            "05bd6f173b124367a75761e7ede35280",
            "f7c56031f10a4f84a0ae364eac73b5ef",
            "b52934671dbf48aa820df85a0bb9e806",
            "0e997183462b42e4b16f71b5dc104e94",
            "54656ad0596f47a0a5a2d85ea97b6757",
            "4962de38a839461db80c7f0a5b539879",
            "04bbc7a48fe945508392e3bba0832fc6",
            "630b2bd6afb64d27a6450a126fcd618a",
            "e431577cecc144bd83e994bc747ed82e",
            "43998658726b454a9ae7e6b4ce7cdebb",
            "169a8ed662aa4c5a8d4e21e7b0972dfa",
            "7bbf5e99a0914a7db1e837ee32743c57",
            "52f4652a089f4918a554c0d21c1230d5",
            "45e00e87d91847079705e1a9d852cf1c"
          ]
        },
        "outputId": "42234544-5969-4499-d835-b2779a48fdf3"
      },
      "outputs": [
        {
          "output_type": "display_data",
          "data": {
            "text/plain": [
              "modules.json:   0%|          | 0.00/387 [00:00<?, ?B/s]"
            ],
            "application/vnd.jupyter.widget-view+json": {
              "version_major": 2,
              "version_minor": 0,
              "model_id": "e32320a1931c44d7b2a67afbb427893f"
            }
          },
          "metadata": {}
        },
        {
          "output_type": "display_data",
          "data": {
            "text/plain": [
              "README.md: 0.00B [00:00, ?B/s]"
            ],
            "application/vnd.jupyter.widget-view+json": {
              "version_major": 2,
              "version_minor": 0,
              "model_id": "2b8ad072fd0647f297dcc71dda389488"
            }
          },
          "metadata": {}
        },
        {
          "output_type": "display_data",
          "data": {
            "text/plain": [
              "sentence_bert_config.json:   0%|          | 0.00/57.0 [00:00<?, ?B/s]"
            ],
            "application/vnd.jupyter.widget-view+json": {
              "version_major": 2,
              "version_minor": 0,
              "model_id": "6201b20812084d9cb0bdc12790d6bc40"
            }
          },
          "metadata": {}
        },
        {
          "output_type": "display_data",
          "data": {
            "text/plain": [
              "config.json:   0%|          | 0.00/690 [00:00<?, ?B/s]"
            ],
            "application/vnd.jupyter.widget-view+json": {
              "version_major": 2,
              "version_minor": 0,
              "model_id": "36d9c050de144d968f30ac8a8f50a5a4"
            }
          },
          "metadata": {}
        },
        {
          "output_type": "display_data",
          "data": {
            "text/plain": [
              "model.safetensors:   0%|          | 0.00/2.24G [00:00<?, ?B/s]"
            ],
            "application/vnd.jupyter.widget-view+json": {
              "version_major": 2,
              "version_minor": 0,
              "model_id": "6140209263544c79a30ab317d3d0e1fa"
            }
          },
          "metadata": {}
        },
        {
          "output_type": "display_data",
          "data": {
            "text/plain": [
              "tokenizer_config.json:   0%|          | 0.00/418 [00:00<?, ?B/s]"
            ],
            "application/vnd.jupyter.widget-view+json": {
              "version_major": 2,
              "version_minor": 0,
              "model_id": "6465e8e266bd4bf183fe479e163d525a"
            }
          },
          "metadata": {}
        },
        {
          "output_type": "display_data",
          "data": {
            "text/plain": [
              "sentencepiece.bpe.model:   0%|          | 0.00/5.07M [00:00<?, ?B/s]"
            ],
            "application/vnd.jupyter.widget-view+json": {
              "version_major": 2,
              "version_minor": 0,
              "model_id": "bbfec6f758c245d28adad1c7f0858ac3"
            }
          },
          "metadata": {}
        },
        {
          "output_type": "display_data",
          "data": {
            "text/plain": [
              "tokenizer.json:   0%|          | 0.00/17.1M [00:00<?, ?B/s]"
            ],
            "application/vnd.jupyter.widget-view+json": {
              "version_major": 2,
              "version_minor": 0,
              "model_id": "6611f1ed24bf451a809c654c1925aa6d"
            }
          },
          "metadata": {}
        },
        {
          "output_type": "display_data",
          "data": {
            "text/plain": [
              "special_tokens_map.json:   0%|          | 0.00/280 [00:00<?, ?B/s]"
            ],
            "application/vnd.jupyter.widget-view+json": {
              "version_major": 2,
              "version_minor": 0,
              "model_id": "5cad56a17ad5427388400dfddd7ef224"
            }
          },
          "metadata": {}
        },
        {
          "output_type": "display_data",
          "data": {
            "text/plain": [
              "config.json:   0%|          | 0.00/201 [00:00<?, ?B/s]"
            ],
            "application/vnd.jupyter.widget-view+json": {
              "version_major": 2,
              "version_minor": 0,
              "model_id": "0e997183462b42e4b16f71b5dc104e94"
            }
          },
          "metadata": {}
        }
      ],
      "source": [
        "from sentence_transformers import SentenceTransformer\n",
        "import torch\n",
        "\n",
        "embedding_model = SentenceTransformer(\"intfloat/multilingual-e5-large\", model_kwargs={'torch_dtype': torch.float16})"
      ]
    },
    {
      "cell_type": "code",
      "source": [
        "from db_creation import create_database, semantic_search\n",
        "\n",
        "my_db = create_database(dataset, embedding_model, 256, 128)"
      ],
      "metadata": {
        "colab": {
          "base_uri": "https://localhost:8080/",
          "height": 145,
          "referenced_widgets": [
            "5b658d3a1a2b478782786ea460929dad",
            "443ab55116f54208b340956376cc7679",
            "fe321419a0684fbebd7015e5bc2c80dc",
            "e6a855692c9d4adc9453ef7b44fc3a00",
            "4b2b73e671654651be523f4d35f439f6",
            "cbe7a825e487427f813040321d11c463",
            "a037a0a7d4d24f968e07f61ef6f0fbfb",
            "29f122e631d842b09ac6227217eb7600",
            "854e439e286347989ef14f56c1b11eb1",
            "8c6d18b06c5d457695f2d613da063c64",
            "7eec150ba4d24a2db559bc78cf5073b7",
            "8e1dc5a784464a49ae812652a0434898",
            "8ebc55893e15493b93ead8a377a20da7",
            "12d1d6f40da54a4b93f62f652767df6d",
            "54ab89fbe181451da32d6d96b6005ef1",
            "1fdfc02db03949ccaf64f78284a80173",
            "b194e905dbaf4b1cb2a6a92ad234560e",
            "e7e4f23f7c1c4cb888b756f672dd73db",
            "fa927401d6fa48f09d4fda26bb0e1c3d",
            "e5089d360dc44aef8894446d91f540aa",
            "89ec67b88a074911a7c3cef52ca3c93e",
            "bde66f9ce83c44608392c6c2288fed5b",
            "88e8afc35cb6470f9ce725362f8b9576",
            "9a65746ae3c641bf943b260435390351",
            "2db7ec51ca0b411eb6ff8b151c2b7815",
            "ab568df1f2e047c4bef992a0d76f5f6e",
            "d142497175804000b337113635b6fd4b",
            "9f79badeb6ce4eeb933f550f48f1b4cd",
            "e8be5a78ca264bc5ad39a7a604511de2",
            "289bdb4b445f4262a8cd57181798241c",
            "e2df0af06b9b461ca6cebd7e665a70c8",
            "7db4a60a338f4e2d94a75ec7eb444271",
            "0c23099ac1e8406caa40679568f35f88",
            "c0c46b57c43d4a1693f624282f12ba1f",
            "877286a30ac24683a59b48e2a13b6f8b",
            "dfcce4798f514c119d1076c25046b1bf",
            "6f36b478aa1a45bdac3c21d7b3e5535f",
            "b3c409cc41df45d89586a3e42c11a98f",
            "e0c3515349a04acb83d679cbe83d1ccb",
            "b5b5c8fa5edd4fa1a155c19806217436",
            "892c149097dc4337977b0cd72807f52c",
            "76d333dd4c9f4d0fb08da9e756957f49",
            "16915f9627544685a0868159fe1e2fce",
            "ce25c2b7676c45e1b557062166166817"
          ]
        },
        "id": "l2bTWO81rdAF",
        "outputId": "e36ea60b-77fa-4653-b2a4-7c009405f6df"
      },
      "id": "l2bTWO81rdAF",
      "execution_count": 11,
      "outputs": [
        {
          "output_type": "display_data",
          "data": {
            "text/plain": [
              "Map:   0%|          | 0/10000 [00:00<?, ? examples/s]"
            ],
            "application/vnd.jupyter.widget-view+json": {
              "version_major": 2,
              "version_minor": 0,
              "model_id": "5b658d3a1a2b478782786ea460929dad"
            }
          },
          "metadata": {}
        },
        {
          "output_type": "display_data",
          "data": {
            "text/plain": [
              "Batches:   0%|          | 0/138 [00:00<?, ?it/s]"
            ],
            "application/vnd.jupyter.widget-view+json": {
              "version_major": 2,
              "version_minor": 0,
              "model_id": "8e1dc5a784464a49ae812652a0434898"
            }
          },
          "metadata": {}
        },
        {
          "output_type": "display_data",
          "data": {
            "text/plain": [
              "Batches:   0%|          | 0/138 [00:00<?, ?it/s]"
            ],
            "application/vnd.jupyter.widget-view+json": {
              "version_major": 2,
              "version_minor": 0,
              "model_id": "88e8afc35cb6470f9ce725362f8b9576"
            }
          },
          "metadata": {}
        },
        {
          "output_type": "display_data",
          "data": {
            "text/plain": [
              "  0%|          | 0/70636 [00:00<?, ?it/s]"
            ],
            "application/vnd.jupyter.widget-view+json": {
              "version_major": 2,
              "version_minor": 0,
              "model_id": "c0c46b57c43d4a1693f624282f12ba1f"
            }
          },
          "metadata": {}
        }
      ]
    },
    {
      "cell_type": "code",
      "source": [
        "query = \"Клубничный молочный коктейль\"\n",
        "output = semantic_search(my_db, query, embedding_model, limit=4)"
      ],
      "metadata": {
        "id": "bZJORsCjriwz"
      },
      "id": "bZJORsCjriwz",
      "execution_count": 12,
      "outputs": []
    },
    {
      "cell_type": "code",
      "source": [
        "for recipe in output:\n",
        "    print(f\"Название рецепта: {recipe[2]['name']}, Сходство: {recipe[1]:.3f}\")\n",
        "    print(f\"Ингредиенты: {recipe[2]['ingredients']}\")\n",
        "    print(f\"Чанк рецепта:\")\n",
        "    print(f\"{recipe[2]['text']}\")\n",
        "    print(\"\\n\" + \"-\" * 50 + \"\\n\")"
      ],
      "metadata": {
        "colab": {
          "base_uri": "https://localhost:8080/"
        },
        "id": "wLI3jURCrtN2",
        "outputId": "9fada60b-7010-4581-937f-51b64f25751a"
      },
      "id": "wLI3jURCrtN2",
      "execution_count": 13,
      "outputs": [
        {
          "output_type": "stream",
          "name": "stdout",
          "text": [
            "Название рецепта: Густой молочно-клубничный коктейль, Сходство: 0.932\n",
            "Ингредиенты: ['Молоко', 'Клубника', 'Сахар']\n",
            "Чанк рецепта:\n",
            "Не размораживая, ягоду положите в блендер, добавьте молоко и сахар (если ягода свежая, то и перепелиное яйцо) Взбивайте на высокой скорости до полного измельчения ягод. Вылете в стаканы и можно по чуть-чуть пить, так как этот напиток оочень холодный. Кто\n",
            "\n",
            "--------------------------------------------------\n",
            "\n",
            "Название рецепта: Густой молочно-клубничный коктейль, Сходство: 0.927\n",
            "Ингредиенты: ['Молоко', 'Клубника', 'Сахар']\n",
            "Чанк рецепта:\n",
            "скорости до полного измельчения ягод. Вылете в стаканы и можно по чуть-чуть пить, так как этот напиток оочень холодный. Кто не любит таковой, подождите и выпейте, когда он немного согреется. Приятного аппетита!\n",
            "\n",
            "--------------------------------------------------\n",
            "\n",
            "Название рецепта: Клубнично-лаймовый коктейль, Сходство: 0.925\n",
            "Ингредиенты: ['Клубника', 'Лайм', 'Сахар коричневый', 'Вода газированная']\n",
            "Чанк рецепта:\n",
            "Для приготовления коктейля понадобится измельченная с сахаром клубника и доведенная до кипения. Я воспользовалась уже готовым сиропом, который приготовила моя мама. Лайм нарезаем ломтиками. На дно бокала наливаем клубничную смесь, добавляем немного сахара\n",
            "\n",
            "--------------------------------------------------\n",
            "\n",
            "Название рецепта: Клубничный десерт, Сходство: 0.922\n",
            "Ингредиенты: ['Клубника', 'Желатин', 'Вода', 'Кефир', 'Сметана', 'Сахар', 'Ванилин']\n",
            "Чанк рецепта:\n",
            "миксером. Влить желатин (уже остывший) и ещё раз перемешать. Вот у нас получилась молочная смесь и форма с клубникой. Заливаем смесью клубнику. Если надо - подправляем ягодки) Как я уже писала - моя форма достаточно большая - 25*19 см. Если я делаю в\n",
            "\n",
            "--------------------------------------------------\n",
            "\n"
          ]
        }
      ]
    },
    {
      "cell_type": "markdown",
      "id": "ba99f278-6158-46ca-99b7-2b58a2af62ad",
      "metadata": {
        "id": "ba99f278-6158-46ca-99b7-2b58a2af62ad"
      },
      "source": [
        "### Формирование контекста для модели и генерация ответа\n",
        "\n",
        "Из всех компонент RAG эта самая творческая. Надо придумать промпт, который будет лучше всего помогать модели генерировать ответ.\n",
        "\n",
        "__Задание 4 (1 балл).__ Напишите функцию для генерации ответа по текстовому запросу в парадигме RAG. Найдите релевантные документы и соберите из них промпт, объяснив дополнительно модели, что от нее требуется. Количество текстов в промпте ограничивайте отбирая топ самых релевантных. Заметьте, что в нашем датасете помимо рецепта есть список ингредиентов и название блюда. Подумайте о том, как можно их использовать. Предайте промпт в модель для получения ответа. Подберите гиперпараметры генерации, чтобы контролировать разнообразие. Помните, что модель должна строго соответствовать инструкциям, не придумывать факты и не генерировать то, что от нее не требуется. Продемонстрируйте ваши результаты на 3-5 примерах."
      ]
    },
    {
      "cell_type": "code",
      "source": [
        "from RAGModel import RAGmodel\n",
        "\n",
        "model = RAGmodel(baseline_pipeline, embedding_model, my_db)"
      ],
      "metadata": {
        "id": "WZf59vdHfa_v"
      },
      "id": "WZf59vdHfa_v",
      "execution_count": 14,
      "outputs": []
    },
    {
      "cell_type": "code",
      "source": [
        "query = \"Как приготовить квас?\"\n",
        "print(model.generate_recipe(query))"
      ],
      "metadata": {
        "colab": {
          "base_uri": "https://localhost:8080/"
        },
        "id": "Z2eipP-Wfs3N",
        "outputId": "5736aa86-23a2-4761-af44-8796622933a1"
      },
      "id": "Z2eipP-Wfs3N",
      "execution_count": 15,
      "outputs": [
        {
          "output_type": "stream",
          "name": "stdout",
          "text": [
            "Приветствую! Готовить квас довольно просто и легко. Для начала возьмите свежий хлеб, который лучше всего использовать хлеб с корочкой. Также понадобится солод, вода, закваска и сахар.\n",
            "\n",
            "### Ингредиенты:\n",
            "- Свежий хлеб — 100 г\n",
            "- Солод — 50 г\n",
            "- Вода — 500 мл\n",
            "- Закваска — 1 столовая ложка\n",
            "- Сахар — 2 столовые ложки (по желанию)\n",
            "\n",
            "### Инструкция по приготовлению:\n",
            "\n",
            "1. **Подготовка ингредиентов**: Очистите хлеб от корочки, замочите его в воде на несколько часов, чтобы извлечь влагу и сделать его более мягким. Солод также промойте и просушите.\n",
            "\n",
            "2. **Приготовление раствора для закваски**: В кастрюле смешайте воду с сахаром и нагрейте до закипания, но не доводите до кипения. Добавьте измельченный солод и закваску, перемешайте и остудите до комнатной температуры.\n",
            "\n",
            "3. **Добавление хлеба к закваске**: После остывания добавьте размоченный хлеб в приготовленную смесь. Замесите тесто, которое должно быть густым и тягучим.\n",
            "\n",
            "4. **Выделение газа**: Смесь поместите в кастрюлю и накрой крышкой. Оставьте её на 12-24 часа при комнатной температуре для активного брожения. Во время брожения в квасе образуются пузырьки газа, что свидетельствует о правильном процессе.\n",
            "\n",
            "5. **Процесс охладки и насыщение газами**: После завершения активного брожения, квас процедите через марлю или фильтровальную бумагу. Затем плотно закупорьте банку и оставьте квас под открытым горлышком на пару часов, чтобы он полностью насытился газами.\n",
            "\n",
            "6. **Хранение**: Квас должен храниться в прохладном месте, но не в холодильнике, так как холод может замедлить процесс брожения. Он может храниться до 4 дней, после чего активность микроорганизмов начинает угасать.\n",
            "\n",
            "Не забывайте о том, что квас — это продукт с высоким уровнем алкоголя (около 1-3% для живых сортов), поэтому употреблять его следует с умом, учитывая свой вес и состояние здоровья. Удачи в кулинарии!\n"
          ]
        }
      ]
    },
    {
      "cell_type": "code",
      "source": [
        "query = \"Подскажи рецепт ужина для набора массы\"\n",
        "print(model.generate_recipe(query))"
      ],
      "metadata": {
        "colab": {
          "base_uri": "https://localhost:8080/"
        },
        "id": "yYoEroR5uKZv",
        "outputId": "c3156a4f-f810-4f2e-86a4-42dfb3d379cc"
      },
      "id": "yYoEroR5uKZv",
      "execution_count": 16,
      "outputs": [
        {
          "output_type": "stream",
          "name": "stdout",
          "text": [
            "Приветствую! \n",
            "\n",
            "Приготовьте себе вкусное и питательное сытное блюдо для набора массы с рецептом быстрого ужина «Ужин \"Мужнина радость\"». \n",
            "\n",
            "Ингредиенты:\n",
            "- Курица, 400 г;\n",
            "- Чеснок, 2 зубчика;\n",
            "- Картофель, 1 крупный;\n",
            "- Масло растительное, 2 столовые ложки;\n",
            "- Мед, 1 столовая ложка;\n",
            "- Специи: черный перец, кориандр, лавровый лист;\n",
            "- Яйцо куриное, 1 штука;\n",
            "- Ветчина, 100 г (по желанию);\n",
            "- Огурец, 1 шт., без кожицы;\n",
            "- Майонез, 1/2 стакана;\n",
            "- Сок томатный, 1 чашка;\n",
            "- Зелень укропа или петрушки для украшения (по вкусу).\n",
            "\n",
            "Приготовление:\n",
            "1. **Курица**:\n",
            "   - Курицу промойте, обсушите бумажным полотенцем и разделите на филе по 250 г.\n",
            "   - Нарежьте куриные филе на небольшие кусочки.\n",
            "   - Разомните два зубчика чеснока и добавьте его в фарш курицы. Посолите и поперчите по вкусу.\n",
            "   - Взбейте яичную смесь с яйцом и добавьте к курице.\n",
            "\n",
            "2. **Картофель**:\n",
            "   - Очистите картофель от кожицы и натрите на крупной терке.\n",
            "   - Обжарьте на сковороде сливочное масло до золотистого цвета, затем добавьте мелко нарезанный лук и жарьте еще пару минут.\n",
            "   - Добавьте тертый картофель и перемешайте, тушите около 5-7 минут, периодически помешивая, пока картофель не станет мягким и слегка пропечётся.\n",
            "\n",
            "3. **Добавляем остальные ингредиенты**:\n",
            "   - Добавьте в картофельную массу ветчину, огурец, измельченную зелень укропа или петрушки, посолите и поперчите по вкусу.\n",
            "   - Добавьте майонез и томатный сок, перемешайте всё снова. Подавайте горячим, украшенные ломтиками ветчины и свежей зеленью.\n",
            "\n",
            "Этот ужин не только питательный, но и вкусный, благодаря сочетанию нежной курицы с сочными овощами и ароматным соусом. Идеально подойдет как самостоятельное блюдо для обеда или ужина, особенно если вы хотите набрать вес сбалансированным и питательным образом. Приготовьте его вместе с семьёй или друзьями, наслаждайтесь едой и пусть ваш аппетит растет!\n"
          ]
        }
      ]
    },
    {
      "cell_type": "code",
      "source": [
        "query = \"рецепт дуриана\"\n",
        "print(model.generate_recipe(query))"
      ],
      "metadata": {
        "colab": {
          "base_uri": "https://localhost:8080/"
        },
        "id": "PCY7hZ70u6j3",
        "outputId": "ba91e0ba-5e7a-49a2-c23a-04965a2eeb46"
      },
      "id": "PCY7hZ70u6j3",
      "execution_count": 21,
      "outputs": [
        {
          "output_type": "stream",
          "name": "stdout",
          "text": [
            "Приветствую! \n",
            "\n",
            "Не нашёл для вас готового рецепта дуриана здесь. Возможно, вы имеете в виду другое блюдо или название? \n",
            "\n",
            "Если вы ищете рецепт чего-то похожего или сходного с дарианом, может быть, вам подойдет рецепт \"Крабовые палочки с кокосовым соусом\"? Это блюдо также связано с экзотическими ингредиентами, такими как кокос и крабы, и требует аккуратности при приготовлении. \n",
            "\n",
            "Если вы хотите приготовить что-то похожее на дариан, возможно, стоит поискать рецепты десертов или сладостей с использованием таких экзотических фруктов, как ананас или авокадо, а также добавление специй и орехов. \n",
            "\n",
            "Пожалуйста, уточните ваш запрос, и я постараюсь помочь с более конкретным рецептом.\n"
          ]
        }
      ]
    },
    {
      "cell_type": "code",
      "source": [
        "query = \"как приготовить кашу из топора?\"\n",
        "print(model.generate_recipe(query))"
      ],
      "metadata": {
        "colab": {
          "base_uri": "https://localhost:8080/"
        },
        "id": "XH_iFjhzwT9m",
        "outputId": "264dd886-7f1e-41de-ce87-96977b3e85bc"
      },
      "id": "XH_iFjhzwT9m",
      "execution_count": 22,
      "outputs": [
        {
          "output_type": "stream",
          "name": "stdout",
          "text": [
            "Приветствую! \n",
            "\n",
            "Извините за путаницу, но у нас нет рецепта для приготовления \"каши из топора\". Возможно, вы имели в виду запеканку из топора, которая использует картофель, тунец, чеснок, соевый соус, укроп, сливки, смесь перцев, масло оливковое, пармезан, соль, грибы и курицу. \n",
            "\n",
            "Запеканка из топора выглядит так:\n",
            "1. Картофель нарезаем кружочками, варим, остужаем, очищаем.\n",
            "2. Курицу нарезаем тонкими полосками, добавляем укроп и соевый соус, тщательно перемешиваем.\n",
            "3. Грибы мелко нарезаем, обжариваем в оливковом масле до золотистого цвета.\n",
            "4. На противень равномерно расстилаем слоями: картошка, курица с укропом, грибы и вновь картошка. Посоляем, приправляем специями.\n",
            "5. Останавливаем духовку на среднем огне, накрываем крышкой и тушим около 30 минут.\n",
            "6. Готовность проверяется при помощи деревянной палочки, она должна легко пройти через слой запекания без остатка теста.\n",
            "\n",
            "Если же вы имеете в виду что-то другое, уточните пожалуйста, и я постараюсь помочь с более точным рецептом. Спасибо за понимание!\n"
          ]
        }
      ]
    },
    {
      "cell_type": "code",
      "source": [
        "query = \"Рецепт свиных крылышек в соусе барбекю\"\n",
        "print(model.generate_recipe(query))"
      ],
      "metadata": {
        "colab": {
          "base_uri": "https://localhost:8080/"
        },
        "id": "zxx4rmPMwws2",
        "outputId": "642ce6d3-e49a-43e3-f294-1f43c8441319"
      },
      "id": "zxx4rmPMwws2",
      "execution_count": 19,
      "outputs": [
        {
          "output_type": "stream",
          "name": "stdout",
          "text": [
            "Приветствую! Для приготовления свиных крылышек в соусе барбекю предлагаю вам следующий простой и вкусный рецепт.\n",
            "\n",
            "### Краткое описание блюда:\n",
            "Свиные крылышки в соусе барбекю — это сочные и аппетитные кусочки мяса, обжаренные в ароматном барбекю-соусе с добавлением специй, перца и меда.\n",
            "\n",
            "### Ингредиенты:\n",
            "- Свиные крылышки — 6 штук\n",
            "- Растительное масло — 2 столовые ложки\n",
            "- Молотый черный перец — 1/2 чайной ложки\n",
            "- Сухой чеснок — 1 зубчик\n",
            "- Томаты (сваренные) — 2 штуки\n",
            "- Соевый соус — 1 столовая ложка\n",
            "- Сахар — 1 столовая ложка\n",
            "- Вода — 1 стакан\n",
            "- Зелень укропа — для подачи (по желанию)\n",
            "\n",
            "### Пошаговая инструкция приготовления:\n",
            "\n",
            "1. **Подготовка крылышек**:\n",
            "   - Свиные крылышки тщательно промойте под проточной водой.\n",
            "   - Нарежьте крылышки на небольшие кусочки примерно 1,5 см в диаметре.\n",
            "   - Посолите и поперчите каждую часть крылышек.\n",
            "\n",
            "2. **Подготовка соуса**:\n",
            "   - В кастрюле смешайте томаты, сок сваренных томатов, сахар, соевый соус, соль и немного воды (примерно 1 стакан).\n",
            "   - Варите соус на медленном огне, периодически помешивая, пока он не загустеет и станет густым.\n",
            "\n",
            "3. **Обжаривание крылышек**:\n",
            "   - Разогрейте сковороду с растительным маслом на среднем огне.\n",
            "   - Обжарьте каждый кусочек крылышек на одной стороне до золотистого цвета, затем переверните и обжарьте еще минуту.\n",
            "   - Выложите обжаренные крылышки в кастрюлю с готовым соусом и перемешайте, чтобы они равномерно пропитались соусом.\n",
            "\n",
            "4. **Подача**:\n",
            "   - При подаче украсьте блюдо свежей зеленью укропа.\n",
            "\n",
            "Этот рецепт позволит приготовить сочные и ароматные свиные крылышки, которые будут идеально сочетаться с гарниром, например, картошкой или овощами. Удачного приготовления!\n"
          ]
        }
      ]
    },
    {
      "cell_type": "markdown",
      "id": "f41114f3-c204-49b0-aa2c-bc51006e4638",
      "metadata": {
        "id": "f41114f3-c204-49b0-aa2c-bc51006e4638"
      },
      "source": [
        "__Бонус [история] (1 балл)__. Важный недостаток текущего подхода заключается в том, что ассистенту нельзя задавать уточняющие вопросы по его же ответам. Приходится переписывать весь запрос целиком, добавляя больше деталей. Это, в целом, решение, но будет лучше, если в системе будет сохраняться история общения, а затем использоваться при генерации нового ответа. В этом задании вам предлагается добавить этот функционал.\n",
        "\n",
        "Существует много способов встраивания истории в модель. Например, можно просто сохранить все вопросы и ответы и подавать их в контекст. Однако такой способ значительно увеличит размер промпта, из-за чего увеличатся затраты по времени и памяти на каждый ответ. Конечно, можно попробовать фильтровывать историю, оставляя только те запросы и ответы, которые касаются текущего запроса. Тем не менее, это все еще будет перегружать промпт. Поэтому есть подход куда лучше.   \n",
        "Перед поиском релевантных текстов попросим модель переформулировать полученный запрос так, чтобы он стал более полным и включал в себя контекст предыдущего общения. Например, `\"Какая у него каллорийность?\" -> \"Какая каллорийность у салата Цезарь?\"`. С таким новым запросом мы сможем искать релевантные тексты с учетом истории, не увеличивая итоговый размер промпта.\n",
        "\n",
        "Реализуйте описанную схему. Для переформулирования запроса используйте ту же модель, что и для генерации, и убедитесь, что она хорошо справляется со своей задачей. С какими сложностями вы столкнулись?"
      ]
    },
    {
      "cell_type": "code",
      "execution_count": 28,
      "id": "4471c5ba-0b12-4d47-8104-0d11e3f848e1",
      "metadata": {
        "colab": {
          "base_uri": "https://localhost:8080/"
        },
        "id": "4471c5ba-0b12-4d47-8104-0d11e3f848e1",
        "outputId": "17883271-2798-46b5-b537-93528de1c803"
      },
      "outputs": [
        {
          "output_type": "stream",
          "name": "stdout",
          "text": [
            "Начат новый разговор с ассистентом. Предыдущая история запросов удалена\n"
          ]
        }
      ],
      "source": [
        "from history_RAG import RAG_with_history\n",
        "\n",
        "history_model = RAG_with_history(\n",
        "    rag_model=model,\n",
        "    paraphrase_model=baseline_pipeline\n",
        ")\n",
        "\n",
        "history_model.start_conversation()"
      ]
    },
    {
      "cell_type": "code",
      "source": [
        "query_0 = \"Как приготовить куриный суп?\"\n",
        "print(history_model.ask_question(query_0))"
      ],
      "metadata": {
        "colab": {
          "base_uri": "https://localhost:8080/"
        },
        "id": "y7VeeFUcOaQG",
        "outputId": "24329b8f-d98b-4656-d63b-3f919b6de9ca"
      },
      "id": "y7VeeFUcOaQG",
      "execution_count": 29,
      "outputs": [
        {
          "output_type": "stream",
          "name": "stdout",
          "text": [
            "Приветствую! Готовить куриный суп можно по нескольким отличным рецептам. Вот один из них, который подойдет для любителей вкусного и питательного блюда:\n",
            "\n",
            "### Куриный суп с зеленым горошком\n",
            "\n",
            "#### Ингредиенты:\n",
            "- Грудка куриная – 400 г\n",
            "- Морковь – 1 штука\n",
            "- Картофель – 2 штуки\n",
            "- Горошек зеленый – 1 банка\n",
            "- Лук репчатый – 1 штука\n",
            "- Соль – по вкусу\n",
            "- Специи (на ваш выбор): перец черный, кориандр, петрушка\n",
            "- Лист лавровый\n",
            "- Зелень (укроп, петрушка) для подачи\n",
            "\n",
            "#### Пошаговая инструкция приготовления:\n",
            "1. **Подготовка продуктов**: Очистите грудку куриную от пленок и жира. Нарежьте ее на небольшие кусочки. Морковь и картофель тщательно промойте, очистите от кожицы и нарежьте кубиками. Лук мелко нашинкуйте.\n",
            "\n",
            "2. **Подготовка овощей**: Лук пропельте в сковороде до золотистого цвета, затем добавьте морковь и картошку. Перемешайте и продолжайте тушить до мягкости.\n",
            "\n",
            "3. **Подготовка бульона**: В большой кастрюле или сковороде залейте подготовленные овощи водой и добавьте кусок листа лаврового дерева. Добавьте соль и специи по вкусу. Варите на среднем огне около 20 минут до полной готовности овощей.\n",
            "\n",
            "4. **Добавление гороха**: В готовую воду добавьте горошины зеленого горошка. Варите еще 15-20 минут, пока горошек не станет мягким.\n",
            "\n",
            "5. **Приготовление курицы**: В отдельной кастрюле нагрейте немного масла, обжарьте подготовленную куры до золотистой корочки с обеих сторон. Слейте жир из сковороды и добавьте к курице в бульон, перемешайте и продолжайте варить еще 15 минут.\n",
            "\n",
            "6. **Добавление зелени и подача**: Готовый суп процедите через сито, чтобы убрать лишний сок. Перед подачей посыпьте суп свежей зеленью, укропом или петрушкой.\n",
            "\n",
            "Таким образом, вы получите ароматный и вкусный куриный суп с зеленым горошком. Приятного аппетита!\n"
          ]
        }
      ]
    },
    {
      "cell_type": "code",
      "source": [
        "query_1 = \"Какая у него калорийность?\"\n",
        "print(history_model.ask_question(query_1))"
      ],
      "metadata": {
        "colab": {
          "base_uri": "https://localhost:8080/"
        },
        "id": "yR1M83zOO5Kc",
        "outputId": "df2fd263-f752-4582-9ce2-c76550340b17"
      },
      "id": "yR1M83zOO5Kc",
      "execution_count": 30,
      "outputs": [
        {
          "output_type": "stream",
          "name": "stderr",
          "text": [
            "You seem to be using the pipelines sequentially on GPU. In order to maximize efficiency please use a dataset\n"
          ]
        },
        {
          "output_type": "stream",
          "name": "stdout",
          "text": [
            "Приветствую! Давайте разбираться с калорийностью куриного супа с зеленым горошком, который мы приготовим по вашему рецепту.\n",
            "\n",
            "### Ингредиенты (по 1 порции):\n",
            "- Грудка куриная — 150 г\n",
            "- Морковь — 1 шт.\n",
            "- Картофель — 1 шт.\n",
            "- Зеленый горошек — 100 г\n",
            "- Лук репчатый — 1 шт.\n",
            "- Соль — по вкусу\n",
            "- Специи — по вкусу\n",
            "- Листья лавровых — 1 штука\n",
            "- Зелень — по желанию\n",
            "- Вода — для бульона\n",
            "\n",
            "### Калорийность (в среднем):\n",
            "- Грудка куриная содержит примерно 140 ккал за 100 г;\n",
            "- Морковь — 20-30 ккал за 100 г;\n",
            "- Картофель — 70-80 ккал за 100 г;\n",
            "- Зеленый горошек — 20 ккал за 100 г;\n",
            "- Лук — около 20 ккал за 100 г;\n",
            "- Листья лавровые — примерно 10 ккал за штуку;\n",
            "- Зелень — около 10 ккал за 100 г.\n",
            "\n",
            "Таким образом, общая калорийность одного порция (примерно 500 г) куриного супа с зеленым горошком составит около **350-400 ккал**. Это довольно умеренная калорийность, подходящей как для похудения, так и для поддержания нормального веса при разумной дозировке.\n",
            "\n",
            "### Пошаговая инструкция приготовления:\n",
            "\n",
            "#### Шаг 1: Подготовка ингредиентов\n",
            "- Вымойте и обсушите все овощи и специи.\n",
            "\n",
            "#### Шаг 2: Приготовление куриного бульона\n",
            "- В кастрюле или казане поставьте воду (около 2-3 литров) и положите подготовленную курицу. Варите на слабом огне до полного кипение. Затем уберите пенку, уменьшите огонь до минимума и продолжайте варить около часа, чтобы бульон полностью распустился.\n",
            "\n",
            "#### Шаг 3: Добавление овощей\n",
            "- Добавьте морковь, картошку и измельченный лук. Варите овощи вместе с куриным мясом в течение 20-25 минут на слабом огне.\n",
            "\n",
            "#### Шаг 4: Добавление зеленого горошка\n",
            "- В конце варки добавьте зеленый горошек. Варите еще 10 минут.\n",
            "\n",
            "#### Шаг 5: Посол и поперчите\n",
            "- После того как ингредиенты хорошо разварились, добавьте соль и специи по вкусу.\n",
            "\n",
            "#### Шаг 6: Завершение\n",
            "- Добавьте измельченную зелень и лавровый лист. Варите ещё 5 минут, после чего уберите с огня. Дайте супу настояться 10-15 минут перед подачей.\n",
            "\n",
            "Приятного аппетита и помните, что правильное количество еды и сбалансированное питание — залог здоровья!\n"
          ]
        }
      ]
    },
    {
      "cell_type": "code",
      "source": [
        "query_2 = \"Сколько белков, жиров и углеводов содержит этот рецепт?\"\n",
        "print(history_model.ask_question(query_2))"
      ],
      "metadata": {
        "colab": {
          "base_uri": "https://localhost:8080/"
        },
        "id": "axR3JpmfPOi2",
        "outputId": "4187be9d-e724-478e-e040-d36f619f7186"
      },
      "id": "axR3JpmfPOi2",
      "execution_count": 34,
      "outputs": [
        {
          "output_type": "stream",
          "name": "stdout",
          "text": [
            "Привет! Готовы к тому, чтобы улучшить свой ужин или перекус? Давайте разберемся, как сделать куриный суп с зеленым горошком более питательным!\n",
            "\n",
            "### Калорийность и Добавки\n",
            "\n",
            "Ваш базовый рецепт куриного супа с зеленым горошком уже содержит полезные компоненты, такие как мясо курицы, овощи (морковь и картофель) и зелень. Однако, для увеличения питательности и калорийности можно добавить следующие ингредиенты:\n",
            "\n",
            "1. **Молочные добавки**: К примеру, сливки или молоко помогут увеличить количество жиров и увеличить калорийность блюда. Это особенно полезно для тех, кто хочет получить больше энергии после ужина.\n",
            "\n",
            "2. **Оливковое масло**: Добавьте немного оливкового масла для дополнительного содержания здоровых жирных кислот, таких как омега-3, что также способствует улучшению здоровья сердца.\n",
            "\n",
            "3. **Зелёные соусы**: Добавление таких продуктов, как соуса из свежей капусты или зеленого горошка, может добавить больше витаминов и минералов.\n",
            "\n",
            "4. **Добавки витаминизированные**: Например, можно включить в суп свежие помидоры или лук для повышения уровня витамина C, а также использовать укроп или петрушку, которые содержат витамин А.\n",
            "\n",
            "5. **Сухофрукты**: Если хотите разнообразить блюдо, можно добавить кусочки апельсина или финики для дополнительного содержания калия.\n",
            "\n",
            "6. **Добавки кальция и железа**: Добавление в суп нежирной сметаны или молока может помочь обеспечить дополнительную массу кальция, а также включение в него небольших кусочков кокосовой стружки или орехов может добавить железо.\n",
            "\n",
            "### Приготовление Супа\n",
            "\n",
            "Вот пошаговый рецепт, который поможет вам создать идеальный куриний суп с зеленым горошком:\n",
            "\n",
            "#### Ингредиенты:\n",
            "- Грудка куриная (около 500 г)\n",
            "- Морковь (1-2 шт.), нарезанная мелкими кубиками\n",
            "- Картофель (1-2 шт.), очищенный и нарезанный кубиками\n",
            "- Зеленый горошек (около 100 г)\n",
            "- Лук репчатый (1 шт.), мелко нарезанный\n",
            "- Соль, перец по вкусу\n",
            "- Лавровый лист (по вкусу)\n",
            "- Зелень (укроп, петрушка, базилик) для подачи\n",
            "\n",
            "#### Приготовление:\n",
            "1. **Подготовка бульона**:\n",
            "   - Нарежьте куриное мясо небольшими кусочками и положите в кастрюлю с водой.\n",
            "   - Добавьте морковь, картофель, лавровый лист и соль по вкусу.\n",
            "   - Варите на слабом огне в течение примерно 20-30 минут, периодически проверяя и добавляя воды, если бульон испарится.\n",
            "   \n",
            "2. **Добавление зеленых овощей**:\n",
            "   - После того как основные ингредиенты будут готовы, добавьте зеленый горошек и варите еще 10-15 минут, пока он не станет мягким.\n",
            "\n",
            "3. **Добавление зелени и уваривание**:\n",
            "   - За 5-10 минут до готовности добавьте измельченную зелень и аккуратно перемешайте.\n",
            "   - Выключите огонь, но оставьте суп на пару минут для того, чтобы зелень настоялась.\n",
            "\n",
            "4. **Подача**:\n",
            "   - Подавайте горячий суп горячим, посыпав сверху измельченной зеленью или кусочками сливочного масла.\n",
            "\n",
            "Этот рецепт позволит вам создать не только вкусное, но и питательное блюдо, которое будет соответствовать вашим потребностям в калориях и питательных веществах. Удачи при готовке!\n"
          ]
        }
      ]
    },
    {
      "cell_type": "code",
      "source": [
        "print(\"Перефразированные вопросы\")\n",
        "for key, answer in history_model.chat_history.history.items():\n",
        "    print(f\"Вопрос {key}: {answer['query']}\")"
      ],
      "metadata": {
        "colab": {
          "base_uri": "https://localhost:8080/"
        },
        "id": "ymPzZ4kqOyDw",
        "outputId": "a2f0b0e6-04e5-476c-a325-48a8ba2ebdc3"
      },
      "id": "ymPzZ4kqOyDw",
      "execution_count": 35,
      "outputs": [
        {
          "output_type": "stream",
          "name": "stdout",
          "text": [
            "Перефразированные вопросы\n",
            "Вопрос 0: Как приготовить куриный суп?\n",
            "Вопрос 1: Какова калорийность куриного супа с зеленым горошком, приготовленного по вашему рецепту?\n",
            "Вопрос 2: Какова калорийность куриного супа с зеленым горошком, приготовленного по вашему рецепту, и какие добавки могут повысить его питательность?\n"
          ]
        }
      ]
    },
    {
      "cell_type": "markdown",
      "source": [
        "Видим, что появляются дополнительные проблемы из-за использования модели для перефразирования, которая не идеально справляется со своей задачей"
      ],
      "metadata": {
        "id": "SzsqogmZQoB0"
      },
      "id": "SzsqogmZQoB0"
    }
  ],
  "metadata": {
    "accelerator": "GPU",
    "colab": {
      "gpuType": "T4",
      "provenance": []
    },
    "kernelspec": {
      "display_name": "Python 3",
      "name": "python3"
    },
    "language_info": {
      "codemirror_mode": {
        "name": "ipython",
        "version": 3
      },
      "file_extension": ".py",
      "mimetype": "text/x-python",
      "name": "python",
      "nbconvert_exporter": "python",
      "pygments_lexer": "ipython3",
      "version": "3.12.6"
    }
  },
  "nbformat": 4,
  "nbformat_minor": 5
}